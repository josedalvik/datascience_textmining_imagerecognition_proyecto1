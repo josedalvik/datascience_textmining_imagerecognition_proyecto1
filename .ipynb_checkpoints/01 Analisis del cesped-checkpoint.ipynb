{
 "cells": [
  {
   "cell_type": "code",
   "execution_count": null,
   "id": "56ead276",
   "metadata": {},
   "outputs": [],
   "source": [
    "import cv2\n",
    "import matplotlib.pyplot as plt\n",
    "import numpy as np\n",
    "\n",
    "plt.rcParams[\"figure.figsize\"] = (16, 12)"
   ]
  },
  {
   "cell_type": "markdown",
   "id": "75e3799f",
   "metadata": {},
   "source": [
    "# Análisis del cesped\n",
    "\n",
    "Para poder contar la cantidad de cesped que existe en un gardin, de primero es necesario análisar la grama utilizando el filtro laplaciano, este es un kernel de detección de bordes que utiliza el metodo de cruce por cero (la segunda derivada). El kernel laplariano es el siguiente:"
   ]
  },
  {
   "cell_type": "code",
   "execution_count": null,
   "id": "50d27c52",
   "metadata": {},
   "outputs": [],
   "source": [
    "lapraciano=np.array([[-1, -1, -1],[-1, 8, -1],[-1, -1, -1]])\n",
    "lapraciano"
   ]
  },
  {
   "cell_type": "markdown",
   "id": "0cc60017",
   "metadata": {},
   "source": [
    "# Kernel lapraciano\n",
    "\n",
    "Función para evaluar resultados del kernel laplaciano "
   ]
  },
  {
   "cell_type": "code",
   "execution_count": null,
   "id": "8bc86cdd",
   "metadata": {},
   "outputs": [],
   "source": [
    "def convolutional_filter(imagen, nombre_imagen_a_generar):\n",
    "    #Carga la imagen\n",
    "    img = cv2.imread(imagen)\n",
    "    \n",
    "    #Eliminar el ruido\n",
    "    img = cv2.GaussianBlur(img, (3, 3), 0)\n",
    "    \n",
    "    #Convierte a escala de grises\n",
    "    gray = cv2.cvtColor(img, cv2.COLOR_BGR2GRAY)\n",
    "    \n",
    "    #Aplica filtro lapraciano\n",
    "    #img = cv2.Laplacian(gray, cv2.CV_16S, ksize=3)\n",
    "    img = cv2.filter2D(gray, -1, lapraciano)\n",
    "    \n",
    "    cv2.imwrite(nombre_imagen_a_generar, img)\n",
    "    img_edited = cv2.imread(nombre_imagen_a_generar)\n",
    "    img_edited = cv2.cvtColor(img_edited, cv2.COLOR_BGR2RGB)\n",
    "    \n",
    "    return img_edited"
   ]
  },
  {
   "cell_type": "markdown",
   "id": "d6a67453",
   "metadata": {},
   "source": [
    "# Evaluación"
   ]
  },
  {
   "cell_type": "code",
   "execution_count": null,
   "id": "18327158",
   "metadata": {},
   "outputs": [],
   "source": [
    "img_lapraciano_1 = convolutional_filter(\"imagenes-originales/grama-1.jpg\", \"01-imagenes/grama-1.jpg\")\n",
    "\n",
    "plt.imshow(img_lapraciano_1)\n",
    "plt.show()"
   ]
  },
  {
   "cell_type": "code",
   "execution_count": null,
   "id": "e5f8f167",
   "metadata": {},
   "outputs": [],
   "source": [
    "img_lapraciano_2 = convolutional_filter(\"imagenes-originales/grama-2.jpg\", \"01-imagenes/grama-2.jpg\")\n",
    "\n",
    "plt.imshow(img_lapraciano_2)\n",
    "plt.show()"
   ]
  },
  {
   "cell_type": "code",
   "execution_count": null,
   "id": "8514aad6",
   "metadata": {},
   "outputs": [],
   "source": [
    "img_lapraciano_3 = convolutional_filter(\"imagenes-originales/grama-3.jpg\", \"01-imagenes/grama-3.jpg\")\n",
    "\n",
    "plt.imshow(img_lapraciano_3)\n",
    "plt.show()"
   ]
  },
  {
   "cell_type": "markdown",
   "id": "ba1b1d6c",
   "metadata": {},
   "source": [
    "# Conclusión\n",
    "\n",
    "Depende de la resolución de la imagen y del tipo de grama, es posible identificar que cada hoja tiene un borde, este puede ser en forma de arco, cuadrado (si está podado) o aguja. Con esto se realizará un modelo y se entrenará para que pueda identificar esos segmentos de línea."
   ]
  },
  {
   "cell_type": "markdown",
   "id": "7dac9389",
   "metadata": {},
   "source": [
    "<b>Borde semi definido en la imagen 1</b>"
   ]
  },
  {
   "cell_type": "code",
   "execution_count": null,
   "id": "940aea8b",
   "metadata": {},
   "outputs": [],
   "source": [
    "w, h = int(img_lapraciano_1.shape[0]/2), int(img_lapraciano_1.shape[1]/2)\n",
    "plt.imshow(img_lapraciano_1[w+100:w+300, h+100:h+300, :])\n",
    "plt.show()"
   ]
  },
  {
   "cell_type": "markdown",
   "id": "443e4f3c",
   "metadata": {},
   "source": [
    "<b>Borde definido en la imagen 2</b>"
   ]
  },
  {
   "cell_type": "code",
   "execution_count": null,
   "id": "e659a766",
   "metadata": {},
   "outputs": [],
   "source": [
    "w, h = int(img_lapraciano_2.shape[0]/2), int(img_lapraciano_2.shape[1]/2)\n",
    "plt.imshow(img_lapraciano_2[w-200:w+200, h-200:h+200, :])\n",
    "plt.show()"
   ]
  },
  {
   "cell_type": "markdown",
   "id": "dea0c5c7",
   "metadata": {},
   "source": [
    "<b>Líneas en la imagen 3</b>"
   ]
  },
  {
   "cell_type": "code",
   "execution_count": null,
   "id": "96f0d02b",
   "metadata": {},
   "outputs": [],
   "source": [
    "w, h = int(img_lapraciano_3.shape[0]/2), int(img_lapraciano_3.shape[1]/2)\n",
    "plt.imshow(img_lapraciano_3[w-200:w+200, h-200:h+200, :])\n",
    "plt.show()"
   ]
  }
 ],
 "metadata": {
  "kernelspec": {
   "display_name": "Python 3 (ipykernel)",
   "language": "python",
   "name": "python3"
  },
  "language_info": {
   "codemirror_mode": {
    "name": "ipython",
    "version": 3
   },
   "file_extension": ".py",
   "mimetype": "text/x-python",
   "name": "python",
   "nbconvert_exporter": "python",
   "pygments_lexer": "ipython3",
   "version": "3.10.4"
  }
 },
 "nbformat": 4,
 "nbformat_minor": 5
}
